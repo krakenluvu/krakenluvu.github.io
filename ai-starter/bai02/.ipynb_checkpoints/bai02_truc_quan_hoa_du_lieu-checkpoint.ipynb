{
 "cells": [
  {
   "cell_type": "markdown",
   "id": "ebb62358-7345-4ac1-82ed-d380aec9248a",
   "metadata": {},
   "source": [
    "# Bài 02: Trực quan hóa dữ liệu"
   ]
  },
  {
   "cell_type": "markdown",
   "id": "6d40deaa-b718-452c-8ef2-c3bcfbfecd06",
   "metadata": {},
   "source": [
    "## 2.Tải và đánh giá kích thước tập dữ liệu"
   ]
  },
  {
   "cell_type": "code",
   "execution_count": 1,
   "id": "7114593c-328f-4c86-98b4-1782c2208581",
   "metadata": {},
   "outputs": [
    {
     "name": "stdout",
     "output_type": "stream",
     "text": [
      "(2579, 85)\n",
      "Tập dữ liệu bao gồm 2579 bất động sản được mô tả qua 85 thuộc tính.\n"
     ]
    }
   ],
   "source": [
    "# Tải tập dữ liệu Ames\n",
    "\n",
    "import pandas as pd\n",
    "\n",
    "Ames = pd.read_csv('Ames.csv')\n",
    "\n",
    "# Kiểm tra kích thước tập dữ liệu\n",
    "\n",
    "print(Ames.shape)\n",
    "\n",
    "rows, columns = Ames.shape\n",
    "\n",
    "print(f\"Tập dữ liệu bao gồm {rows} bất động sản được mô tả qua {columns} thuộc tính.\")"
   ]
  },
  {
   "cell_type": "code",
   "execution_count": 4,
   "id": "693a04d4-331c-48f8-9bc8-b57c3c559b75",
   "metadata": {},
   "outputs": [
    {
     "name": "stdout",
     "output_type": "stream",
     "text": [
      "object     44\n",
      "int64      27\n",
      "float64    14\n",
      "Name: count, dtype: int64\n"
     ]
    }
   ],
   "source": [
    "import pandas as pd\n",
    "\n",
    "Ames = pd.read_csv('Ames.csv')\n",
    "# Xác định kiểu dữ liệu của từng thuộc tính\n",
    "\n",
    "data_types = Ames.dtypes\n",
    "\n",
    "# Đếm số lượng kiểu dữ liệu\n",
    "\n",
    "type_counts = data_types.value_counts()\n",
    "\n",
    "print(type_counts)"
   ]
  },
  {
   "cell_type": "markdown",
   "id": "e510aaac-aec7-4b7d-ba06-63a062c0c85b",
   "metadata": {},
   "source": [
    "### Từ điển dữ liệu"
   ]
  },
  {
   "cell_type": "code",
   "execution_count": 3,
   "id": "20c1c62a-5b71-477f-b948-c8aed88a8187",
   "metadata": {},
   "outputs": [
    {
     "name": "stdout",
     "output_type": "stream",
     "text": [
      "PID            int64\n",
      "GrLivArea      int64\n",
      "SalePrice      int64\n",
      "MSSubClass     int64\n",
      "MSZoning      object\n",
      "dtype: object\n",
      "SaleCondition     object\n",
      "GeoRefNo         float64\n",
      "Prop_Addr         object\n",
      "Latitude         float64\n",
      "Longitude        float64\n",
      "dtype: object\n"
     ]
    }
   ],
   "source": [
    "import pandas as pd\n",
    "\n",
    "Ames = pd.read_csv('Ames.csv')\n",
    "\n",
    "# Xác định kiểu dữ liệu của từng thuộc tính\n",
    "\n",
    "data_types = Ames.dtypes\n",
    "\n",
    "# Hiển thị một số kiểu dữ liệu từ tập dữ liệu (5 cột đầu và 5 cột cuối)\n",
    "\n",
    "print(data_types.head())\n",
    "\n",
    "print(data_types.tail())"
   ]
  },
  {
   "cell_type": "markdown",
   "id": "9cad3df4-5d2d-430b-8cfa-a95376c324bf",
   "metadata": {},
   "source": [
    "## 3.Khám phá và trực quan hóa dữ liệu bị thiếu"
   ]
  },
  {
   "cell_type": "code",
   "execution_count": 5,
   "id": "bf132aab-9d42-4a53-9867-b3d6ac833783",
   "metadata": {},
   "outputs": [
    {
     "name": "stdout",
     "output_type": "stream",
     "text": [
      "     A     B   C  D\n",
      "0  1.0     a NaN  1\n",
      "1  2.0     b NaN  2\n",
      "2  NaN  None NaN  3\n",
      "3  4.0     d NaN  4\n",
      "4  5.0     e NaN  5\n",
      "\n",
      "A    1\n",
      "B    1\n",
      "C    5\n",
      "D    0\n",
      "dtype: int64\n"
     ]
    }
   ],
   "source": [
    "import pandas as pd\n",
    "\n",
    "import numpy as np\n",
    "# Tạo một DataFrame với các loại giá trị bị thiếu khác nhau\n",
    "\n",
    "df = pd.DataFrame({\n",
    "\n",
    "'A': [1, 2, np.nan, 4, 5],\n",
    "\n",
    "'B': ['a', 'b', None, 'd', 'e'],\n",
    "\n",
    "'C': [np.nan, np.nan, np.nan, np.nan, np.nan],\n",
    "\n",
    "'D': [1, 2, 3, 4, 5]\n",
    "\n",
    "})\n",
    "\n",
    "# Sử dụng isnull() để xác định giá trị bị thiếu\n",
    "\n",
    "missing_data = df.isnull().sum()\n",
    "\n",
    "print(df)\n",
    "\n",
    "print()\n",
    "\n",
    "print(missing_data)"
   ]
  },
  {
   "cell_type": "markdown",
   "id": "e18cd20d-2776-4c7a-bcd6-b7bec37dc623",
   "metadata": {},
   "source": [
    "### Trực quan hóa dữ liệu bị thiếu"
   ]
  },
  {
   "cell_type": "code",
   "execution_count": 6,
   "id": "ce428730-ed72-4b4d-a18d-6a57c78fbafa",
   "metadata": {},
   "outputs": [
    {
     "name": "stdout",
     "output_type": "stream",
     "text": [
      "              Missing Values  Percentage\n",
      "PoolQC                  2570   99.651028\n",
      "MiscFeature             2482   96.238852\n",
      "Alley                   2411   93.485847\n",
      "Fence                   2054   79.643273\n",
      "MasVnrType              1572   60.953858\n",
      "FireplaceQu             1241   48.119426\n",
      "LotFrontage              462   17.913920\n",
      "GarageQual               129    5.001939\n",
      "GarageYrBlt              129    5.001939\n",
      "GarageCond               129    5.001939\n",
      "GarageFinish             129    5.001939\n",
      "GarageType               127    4.924389\n",
      "Latitude                  97    3.761148\n",
      "Longitude                 97    3.761148\n",
      "BsmtExposure              71    2.753005\n",
      "BsmtFinType2              70    2.714230\n",
      "BsmtFinType1              69    2.675456\n",
      "BsmtQual                  69    2.675456\n",
      "BsmtCond                  69    2.675456\n",
      "GeoRefNo                  20    0.775494\n",
      "Prop_Addr                 20    0.775494\n",
      "MasVnrArea                14    0.542846\n",
      "BsmtHalfBath               2    0.077549\n",
      "BsmtFullBath               2    0.077549\n",
      "TotalBsmtSF                1    0.038775\n",
      "BsmtFinSF1                 1    0.038775\n",
      "BsmtFinSF2                 1    0.038775\n",
      "GarageCars                 1    0.038775\n",
      "GarageArea                 1    0.038775\n",
      "BsmtUnfSF                  1    0.038775\n",
      "Electrical                 1    0.038775\n"
     ]
    }
   ],
   "source": [
    "import pandas as pd\n",
    "\n",
    "Ames = pd.read_csv('Ames.csv')\n",
    "\n",
    "# Tính toán số lượng và tỷ lệ phần trăm giá trị bị thiếu của mỗi cột\n",
    "\n",
    "missing_data = Ames.isnull().sum()\n",
    "\n",
    "missing_percentage = (missing_data / len(Ames)) * 100\n",
    "\n",
    "# Gộp số lượng và tỷ lệ phần trăm vào một DataFrame để dễ dàng quan sát\n",
    "\n",
    "missing_info = pd.DataFrame({'Missing Values': missing_data,\n",
    "\n",
    "'Percentage': missing_percentage})\n",
    "\n",
    "# Sắp xếp theo thứ tự giảm dần\n",
    "\n",
    "missing_info = missing_info.sort_values(by='Percentage', ascending=False)\n",
    "\n",
    "# Hiển thị các cột có giá trị bị thiếu\n",
    "\n",
    "print(missing_info[missing_info['Missing Values'] > 0])"
   ]
  },
  {
   "cell_type": "markdown",
   "id": "84814dfc-0714-45e9-a2c1-3c454b96643a",
   "metadata": {},
   "source": [
    "### Trực quan hóa dữ liệu bị thiếu bằng missingno"
   ]
  },
  {
   "cell_type": "code",
   "execution_count": 7,
   "id": "a57185d5-7af7-47d4-a527-eb5d70c10588",
   "metadata": {},
   "outputs": [
    {
     "ename": "ModuleNotFoundError",
     "evalue": "No module named 'missingno'",
     "output_type": "error",
     "traceback": [
      "\u001b[0;31m---------------------------------------------------------------------------\u001b[0m",
      "\u001b[0;31mModuleNotFoundError\u001b[0m                       Traceback (most recent call last)",
      "Cell \u001b[0;32mIn[7], line 3\u001b[0m\n\u001b[1;32m      1\u001b[0m \u001b[38;5;28;01mimport\u001b[39;00m \u001b[38;5;21;01mpandas\u001b[39;00m \u001b[38;5;28;01mas\u001b[39;00m \u001b[38;5;21;01mpd\u001b[39;00m\n\u001b[0;32m----> 3\u001b[0m \u001b[38;5;28;01mimport\u001b[39;00m \u001b[38;5;21;01mmissingno\u001b[39;00m \u001b[38;5;28;01mas\u001b[39;00m \u001b[38;5;21;01mmsno\u001b[39;00m\n\u001b[1;32m      5\u001b[0m \u001b[38;5;28;01mimport\u001b[39;00m \u001b[38;5;21;01mmatplotlib\u001b[39;00m\u001b[38;5;21;01m.\u001b[39;00m\u001b[38;5;21;01mpyplot\u001b[39;00m \u001b[38;5;28;01mas\u001b[39;00m \u001b[38;5;21;01mplt\u001b[39;00m\n\u001b[1;32m      7\u001b[0m Ames \u001b[38;5;241m=\u001b[39m pd\u001b[38;5;241m.\u001b[39mread_csv(\u001b[38;5;124m'\u001b[39m\u001b[38;5;124mAmes.csv\u001b[39m\u001b[38;5;124m'\u001b[39m)\n",
      "\u001b[0;31mModuleNotFoundError\u001b[0m: No module named 'missingno'"
     ]
    }
   ],
   "source": [
    "import pandas as pd\n",
    "\n",
    "import missingno as msno\n",
    "\n",
    "import matplotlib.pyplot as plt\n",
    "\n",
    "Ames = pd.read_csv('Ames.csv')\n",
    "\n",
    "msno.matrix(Ames, sparkline=False, fontsize=20)\n",
    "\n",
    "plt.show()"
   ]
  },
  {
   "cell_type": "markdown",
   "id": "94024bb3-e7e9-49c7-87cd-5c4c20396f26",
   "metadata": {},
   "source": [
    "### Biểu đồ thanh thể hiện đặc trưng có nhiều dữ liệu bị thiếu nhất"
   ]
  },
  {
   "cell_type": "code",
   "execution_count": null,
   "id": "2902af4c-ee81-4cfb-8ec1-8cda3f4477cf",
   "metadata": {},
   "outputs": [],
   "source": [
    "import pandas as pd\n",
    "\n",
    "import missingno as msno\n",
    "\n",
    "import matplotlib.pyplot as plt\n",
    "\n",
    "Ames = pd.read_csv('Ames.csv')\n",
    "\n",
    "# Tính toán số lượng và tỷ lệ dữ liệu bị thiếu\n",
    "\n",
    "missing_data = Ames.isnull().sum()\n",
    "\n",
    "missing_percentage = (missing_data / len(Ames)) * 100\n",
    "\n",
    "# Kết hợp thành DataFrame\n",
    "\n",
    "missing_info = pd.DataFrame({'Missing Values': missing_data,\n",
    "\n",
    "'Percentage': missing_percentage})\n",
    "\n",
    "# Sắp xếp theo số lượng giá trị bị thiếu\n",
    "\n",
    "sorted_df = Ames[missing_info.sort_values(by='Percentage', ascending=False).index]\n",
    "\n",
    "# Chọn 15 cột có nhiều dữ liệu bị thiếu nhất\n",
    "\n",
    "top_15_missing = sorted_df.iloc[:, :15]\n",
    "# Trực quan hóa bằng missingno\n",
    "\n",
    "msno.bar(top_15_missing)\n",
    "\n",
    "plt.show()"
   ]
  },
  {
   "cell_type": "markdown",
   "id": "071f2935-8b8d-43c7-9018-a4a5b9bdbf5e",
   "metadata": {},
   "source": [
    "### Biểu đồ ngang hiển thị 15 đặc trưng có dữ liệu bị thiếu cao nhất"
   ]
  },
  {
   "cell_type": "code",
   "execution_count": null,
   "id": "1c850776-8df8-41b9-8221-1e88ae46d83c",
   "metadata": {},
   "outputs": [],
   "source": [
    "import pandas as pd\n",
    "\n",
    "import seaborn as sns\n",
    "\n",
    "import matplotlib.pyplot as plt\n",
    "\n",
    "Ames = pd.read_csv('Ames.csv')\n",
    "\n",
    "# Tính toán số lượng và tỷ lệ dữ liệu bị thiếu\n",
    "\n",
    "missing_data = Ames.isnull().sum()\n",
    "\n",
    "missing_percentage = (missing_data / len(Ames)) * 100\n",
    "\n",
    "# Kết hợp thành DataFrame\n",
    "\n",
    "missing_info = pd.DataFrame({'Missing Values': missing_data,\n",
    "\n",
    "'Percentage': missing_percentage})\n",
    "\n",
    "# Lọc ra 15 cột có tỷ lệ giá trị bị thiếu cao nhất\n",
    "\n",
    "top_15_missing_info = missing_info.nlargest(15, 'Percentage')\n",
    "\n",
    "# Tạo biểu đồ ngang bằng seaborn\n",
    "\n",
    "plt.figure(figsize=(12, 8))\n",
    "\n",
    "sns.barplot(x='Percentage', y=top_15_missing_info.index, hue=top_15_missing_info.index,\n",
    "\n",
    "data=top_15_missing_info, orient='h')\n",
    "\n",
    "plt.title('Top 15 Features with Missing Percentages', fontsize=20)\n",
    "\n",
    "plt.xlabel('Percentage of Missing Values', fontsize=16)\n",
    "\n",
    "plt.ylabel('Features', fontsize=16)\n",
    "\n",
    "plt.show()"
   ]
  },
  {
   "cell_type": "markdown",
   "id": "f623859f-4568-459b-a941-6c158d619586",
   "metadata": {},
   "source": [
    "# Kết thúc"
   ]
  }
 ],
 "metadata": {
  "kernelspec": {
   "display_name": "Python 3 (ipykernel)",
   "language": "python",
   "name": "python3"
  },
  "language_info": {
   "codemirror_mode": {
    "name": "ipython",
    "version": 3
   },
   "file_extension": ".py",
   "mimetype": "text/x-python",
   "name": "python",
   "nbconvert_exporter": "python",
   "pygments_lexer": "ipython3",
   "version": "3.12.1"
  }
 },
 "nbformat": 4,
 "nbformat_minor": 5
}
